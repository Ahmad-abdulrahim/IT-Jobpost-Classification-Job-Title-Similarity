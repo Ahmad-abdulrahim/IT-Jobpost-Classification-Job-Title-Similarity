{
  "cells": [
    {
      "cell_type": "markdown",
      "source": [
        "# Jobpost Classification"
      ],
      "metadata": {
        "id": "YE1t4xUGbxdT"
      }
    },
    {
      "cell_type": "code",
      "source": [
        "from joblib import load\n",
        "import spacy\n",
        "import re\n",
        "import ipywidgets as widgets\n",
        "from IPython.display import display\n",
        "\n",
        "# Load the Random Forest model and TF-IDF Vectorizer\n",
        "rf_model = load(\"random_forest_model.joblib\")\n",
        "tfidf_vectorizer = load(\"tfidf_vectorizer.joblib\")\n",
        "\n",
        "nlp = spacy.load(\"en_core_web_sm\")  # Make sure to load the correct spaCy model\n",
        "print(\"Models and vectorizer loaded successfully.\")"
      ],
      "metadata": {
        "colab": {
          "base_uri": "https://localhost:8080/"
        },
        "id": "WD1m5z2_cHTU",
        "outputId": "5e924527-83a0-47fa-a081-6687764a078c"
      },
      "execution_count": 36,
      "outputs": [
        {
          "output_type": "stream",
          "name": "stdout",
          "text": [
            "Models and vectorizer loaded successfully.\n"
          ]
        }
      ]
    },
    {
      "cell_type": "code",
      "source": [
        "def preprocess_text(text):\n",
        "    text = re.sub(r'[^a-zA-Z\\s]', '', text)  # Remove punctuation and numbers\n",
        "    text = text.strip().lower()  # Strip whitespace and convert to lowercase\n",
        "    text = re.sub(r'http\\S+', '', text)  # Remove URL from text\n",
        "    doc = nlp(text)  # Process text with spaCy\n",
        "    tokens = [token.lemma_ for token in doc if token.is_alpha and not token.is_stop]  # Lemmatize, remove stopwords\n",
        "    return \" \".join(tokens)  # Join tokens into a string"
      ],
      "metadata": {
        "id": "9mNIwXB_0LXt"
      },
      "execution_count": 37,
      "outputs": []
    },
    {
      "cell_type": "code",
      "source": [
        "def predict_job_description():\n",
        "    # Preprocess the input text\n",
        "    preprocessed_text = preprocess_text(job_description_text.value)\n",
        "\n",
        "    # Vectorize the preprocessed text\n",
        "    vectorized_text = tfidf_vectorizer.transform([preprocessed_text])\n",
        "\n",
        "    # Make a prediction\n",
        "    prediction = rf_model.predict(vectorized_text)\n",
        "\n",
        "    # Display the prediction\n",
        "    prediction_output.value = f'Prediction: {prediction[0]}'\n",
        "\n",
        "# Create input and output widgets\n",
        "job_description_text = widgets.Textarea(placeholder='Type the job description here...', description='Input:', layout={'width': '400px', 'height': '200px'})\n",
        "prediction_output = widgets.Label(value='Prediction will be displayed here...')\n",
        "predict_button = widgets.Button(description=\"Predict\")\n",
        "\n",
        "# Display the widgets\n",
        "display(job_description_text, predict_button, prediction_output)\n",
        "\n",
        "# Button click event\n",
        "predict_button.on_click(lambda x: predict_job_description())"
      ],
      "metadata": {
        "colab": {
          "base_uri": "https://localhost:8080/",
          "height": 285,
          "referenced_widgets": [
            "4e1d4f773d0d4bd9aa9dff9d2a8e8fe7",
            "4dfaf4356df1440fa78b9c50a0dc19bb",
            "2290032169414b1f949098d15d5d27f1",
            "87ab7fac9ac34463b862418855a43f5f",
            "265d143bdba1492e92a64798ce8cada2",
            "2f9011579b52437eaed2b546aeb716db",
            "a84a26e827384d1ba81a8683758212fb",
            "7102cff4347b4193958929a1c4fbd079",
            "3c0b10c00a65402b8f1e50d549f0a2d3"
          ]
        },
        "id": "_YSGNA_dyMNE",
        "outputId": "0384747e-0c1b-491e-fdaa-7ed453a5401a"
      },
      "execution_count": 38,
      "outputs": [
        {
          "output_type": "display_data",
          "data": {
            "text/plain": [
              "Textarea(value='', description='Input:', layout=Layout(height='200px', width='400px'), placeholder='Type the j…"
            ],
            "application/vnd.jupyter.widget-view+json": {
              "version_major": 2,
              "version_minor": 0,
              "model_id": "4e1d4f773d0d4bd9aa9dff9d2a8e8fe7"
            }
          },
          "metadata": {}
        },
        {
          "output_type": "display_data",
          "data": {
            "text/plain": [
              "Button(description='Predict', style=ButtonStyle())"
            ],
            "application/vnd.jupyter.widget-view+json": {
              "version_major": 2,
              "version_minor": 0,
              "model_id": "87ab7fac9ac34463b862418855a43f5f"
            }
          },
          "metadata": {}
        },
        {
          "output_type": "display_data",
          "data": {
            "text/plain": [
              "Label(value='Prediction will be displayed here...')"
            ],
            "application/vnd.jupyter.widget-view+json": {
              "version_major": 2,
              "version_minor": 0,
              "model_id": "a84a26e827384d1ba81a8683758212fb"
            }
          },
          "metadata": {}
        }
      ]
    },
    {
      "cell_type": "markdown",
      "source": [
        "# Job Similarity"
      ],
      "metadata": {
        "id": "8-L1kfM77yPS"
      }
    },
    {
      "cell_type": "code",
      "source": [
        "from gensim.models import Doc2Vec\n",
        "\n",
        "# Assuming your Doc2Vec model is already trained and loaded\n",
        "model_sim = Doc2Vec.load(\"similarity_model.model\")\n",
        "print(\"Model loaded successfully.\")\n",
        "\n",
        "def get_relevant_titles(job_title):\n",
        "    # Infer vector for the input job title\n",
        "    vector = model_sim.infer_vector(job_title.split())\n",
        "    # Get most similar titles from the model\n",
        "    similar_docs = model_sim.dv.most_similar(positive=[vector], topn=10)\n",
        "    # Create a DataFrame to display the results nicely\n",
        "    similarity = pd.DataFrame(similar_docs, columns=['Job Title', 'Similarity Score'])\n",
        "    return similarity\n",
        "\n",
        "def on_predict_button_clicked(b):\n",
        "    # Get the job title from input\n",
        "    job_title = job_title_input.value\n",
        "    # Get the relevant titles\n",
        "    relevant_titles = get_relevant_titles(job_title)\n",
        "    # Display results\n",
        "    with output:\n",
        "        output.clear_output()\n",
        "        display(Markdown(\"### Top 10 Relevant Job Titles\"))\n",
        "        for index, row in relevant_titles.iterrows():\n",
        "            # Using the round function to round the similarity score\n",
        "            rounded_score = round(row['Similarity Score'], 3)\n",
        "            display(Markdown(f\"{index+1}. **{row['Job Title']}** - Similarity Score: {rounded_score}\"))\n"
      ],
      "metadata": {
        "colab": {
          "base_uri": "https://localhost:8080/"
        },
        "id": "B63Wvwvo0NC2",
        "outputId": "0a09ec56-55fa-45ee-fc84-e8d0bf3e3904"
      },
      "execution_count": 52,
      "outputs": [
        {
          "output_type": "stream",
          "name": "stdout",
          "text": [
            "Model loaded successfully.\n"
          ]
        }
      ]
    },
    {
      "cell_type": "code",
      "source": [
        "import ipywidgets as widgets\n",
        "from IPython.display import display, Markdown\n",
        "import pandas as pd\n",
        "\n",
        "# Create widgets\n",
        "job_title_input = widgets.Text(placeholder='Enter a job title...', description='Job Title:')\n",
        "predict_button = widgets.Button(description='Find Similar Titles')\n",
        "output = widgets.Output()\n",
        "\n",
        "# Display widgets\n",
        "display(job_title_input, predict_button, output)\n",
        "\n",
        "# Button click action\n",
        "predict_button.on_click(on_predict_button_clicked)"
      ],
      "metadata": {
        "colab": {
          "base_uri": "https://localhost:8080/",
          "height": 445,
          "referenced_widgets": [
            "2244a61996784d9e8f1f1e6eecdec015",
            "4ad171e9fe4f48c7b973374eba534ee1",
            "ed9933948b4642a4ae0cd7fdacd3b180",
            "f88031c6eb564aec9dc6f8e9f8f35027",
            "2d09952e50564b45b081d4e1b71f57ef",
            "bade33a451fe4cb88dfae6654da89cc2",
            "b3ae66f9a28545f8a9b949610f2a8727",
            "5d7d12cd4d0d4da2a3a0c5fb541a7c4f"
          ]
        },
        "id": "SWSEWnu65k6I",
        "outputId": "5c29c7ef-d164-45b1-e97a-3725ec50106c"
      },
      "execution_count": 53,
      "outputs": [
        {
          "output_type": "display_data",
          "data": {
            "text/plain": [
              "Text(value='', description='Job Title:', placeholder='Enter a job title...')"
            ],
            "application/vnd.jupyter.widget-view+json": {
              "version_major": 2,
              "version_minor": 0,
              "model_id": "2244a61996784d9e8f1f1e6eecdec015"
            }
          },
          "metadata": {}
        },
        {
          "output_type": "display_data",
          "data": {
            "text/plain": [
              "Button(description='Find Similar Titles', style=ButtonStyle())"
            ],
            "application/vnd.jupyter.widget-view+json": {
              "version_major": 2,
              "version_minor": 0,
              "model_id": "f88031c6eb564aec9dc6f8e9f8f35027"
            }
          },
          "metadata": {}
        },
        {
          "output_type": "display_data",
          "data": {
            "text/plain": [
              "Output()"
            ],
            "application/vnd.jupyter.widget-view+json": {
              "version_major": 2,
              "version_minor": 0,
              "model_id": "b3ae66f9a28545f8a9b949610f2a8727"
            }
          },
          "metadata": {}
        }
      ]
    }
  ],
  "metadata": {
    "colab": {
      "provenance": []
    },
    "kernelspec": {
      "display_name": "Python 3",
      "name": "python3"
    },
    "language_info": {
      "name": "python"
    },
    "widgets": {
      "application/vnd.jupyter.widget-state+json": {
        "4e1d4f773d0d4bd9aa9dff9d2a8e8fe7": {
          "model_module": "@jupyter-widgets/controls",
          "model_name": "TextareaModel",
          "model_module_version": "1.5.0",
          "state": {
            "_dom_classes": [],
            "_model_module": "@jupyter-widgets/controls",
            "_model_module_version": "1.5.0",
            "_model_name": "TextareaModel",
            "_view_count": null,
            "_view_module": "@jupyter-widgets/controls",
            "_view_module_version": "1.5.0",
            "_view_name": "TextareaView",
            "continuous_update": true,
            "description": "Input:",
            "description_tooltip": null,
            "disabled": false,
            "layout": "IPY_MODEL_4dfaf4356df1440fa78b9c50a0dc19bb",
            "placeholder": "Type the job description here...",
            "rows": null,
            "style": "IPY_MODEL_2290032169414b1f949098d15d5d27f1",
            "value": ""
          }
        },
        "4dfaf4356df1440fa78b9c50a0dc19bb": {
          "model_module": "@jupyter-widgets/base",
          "model_name": "LayoutModel",
          "model_module_version": "1.2.0",
          "state": {
            "_model_module": "@jupyter-widgets/base",
            "_model_module_version": "1.2.0",
            "_model_name": "LayoutModel",
            "_view_count": null,
            "_view_module": "@jupyter-widgets/base",
            "_view_module_version": "1.2.0",
            "_view_name": "LayoutView",
            "align_content": null,
            "align_items": null,
            "align_self": null,
            "border": null,
            "bottom": null,
            "display": null,
            "flex": null,
            "flex_flow": null,
            "grid_area": null,
            "grid_auto_columns": null,
            "grid_auto_flow": null,
            "grid_auto_rows": null,
            "grid_column": null,
            "grid_gap": null,
            "grid_row": null,
            "grid_template_areas": null,
            "grid_template_columns": null,
            "grid_template_rows": null,
            "height": "200px",
            "justify_content": null,
            "justify_items": null,
            "left": null,
            "margin": null,
            "max_height": null,
            "max_width": null,
            "min_height": null,
            "min_width": null,
            "object_fit": null,
            "object_position": null,
            "order": null,
            "overflow": null,
            "overflow_x": null,
            "overflow_y": null,
            "padding": null,
            "right": null,
            "top": null,
            "visibility": null,
            "width": "400px"
          }
        },
        "2290032169414b1f949098d15d5d27f1": {
          "model_module": "@jupyter-widgets/controls",
          "model_name": "DescriptionStyleModel",
          "model_module_version": "1.5.0",
          "state": {
            "_model_module": "@jupyter-widgets/controls",
            "_model_module_version": "1.5.0",
            "_model_name": "DescriptionStyleModel",
            "_view_count": null,
            "_view_module": "@jupyter-widgets/base",
            "_view_module_version": "1.2.0",
            "_view_name": "StyleView",
            "description_width": ""
          }
        },
        "87ab7fac9ac34463b862418855a43f5f": {
          "model_module": "@jupyter-widgets/controls",
          "model_name": "ButtonModel",
          "model_module_version": "1.5.0",
          "state": {
            "_dom_classes": [],
            "_model_module": "@jupyter-widgets/controls",
            "_model_module_version": "1.5.0",
            "_model_name": "ButtonModel",
            "_view_count": null,
            "_view_module": "@jupyter-widgets/controls",
            "_view_module_version": "1.5.0",
            "_view_name": "ButtonView",
            "button_style": "",
            "description": "Predict",
            "disabled": false,
            "icon": "",
            "layout": "IPY_MODEL_265d143bdba1492e92a64798ce8cada2",
            "style": "IPY_MODEL_2f9011579b52437eaed2b546aeb716db",
            "tooltip": ""
          }
        },
        "265d143bdba1492e92a64798ce8cada2": {
          "model_module": "@jupyter-widgets/base",
          "model_name": "LayoutModel",
          "model_module_version": "1.2.0",
          "state": {
            "_model_module": "@jupyter-widgets/base",
            "_model_module_version": "1.2.0",
            "_model_name": "LayoutModel",
            "_view_count": null,
            "_view_module": "@jupyter-widgets/base",
            "_view_module_version": "1.2.0",
            "_view_name": "LayoutView",
            "align_content": null,
            "align_items": null,
            "align_self": null,
            "border": null,
            "bottom": null,
            "display": null,
            "flex": null,
            "flex_flow": null,
            "grid_area": null,
            "grid_auto_columns": null,
            "grid_auto_flow": null,
            "grid_auto_rows": null,
            "grid_column": null,
            "grid_gap": null,
            "grid_row": null,
            "grid_template_areas": null,
            "grid_template_columns": null,
            "grid_template_rows": null,
            "height": null,
            "justify_content": null,
            "justify_items": null,
            "left": null,
            "margin": null,
            "max_height": null,
            "max_width": null,
            "min_height": null,
            "min_width": null,
            "object_fit": null,
            "object_position": null,
            "order": null,
            "overflow": null,
            "overflow_x": null,
            "overflow_y": null,
            "padding": null,
            "right": null,
            "top": null,
            "visibility": null,
            "width": null
          }
        },
        "2f9011579b52437eaed2b546aeb716db": {
          "model_module": "@jupyter-widgets/controls",
          "model_name": "ButtonStyleModel",
          "model_module_version": "1.5.0",
          "state": {
            "_model_module": "@jupyter-widgets/controls",
            "_model_module_version": "1.5.0",
            "_model_name": "ButtonStyleModel",
            "_view_count": null,
            "_view_module": "@jupyter-widgets/base",
            "_view_module_version": "1.2.0",
            "_view_name": "StyleView",
            "button_color": null,
            "font_weight": ""
          }
        },
        "a84a26e827384d1ba81a8683758212fb": {
          "model_module": "@jupyter-widgets/controls",
          "model_name": "LabelModel",
          "model_module_version": "1.5.0",
          "state": {
            "_dom_classes": [],
            "_model_module": "@jupyter-widgets/controls",
            "_model_module_version": "1.5.0",
            "_model_name": "LabelModel",
            "_view_count": null,
            "_view_module": "@jupyter-widgets/controls",
            "_view_module_version": "1.5.0",
            "_view_name": "LabelView",
            "description": "",
            "description_tooltip": null,
            "layout": "IPY_MODEL_7102cff4347b4193958929a1c4fbd079",
            "placeholder": "​",
            "style": "IPY_MODEL_3c0b10c00a65402b8f1e50d549f0a2d3",
            "value": "Prediction: 1"
          }
        },
        "7102cff4347b4193958929a1c4fbd079": {
          "model_module": "@jupyter-widgets/base",
          "model_name": "LayoutModel",
          "model_module_version": "1.2.0",
          "state": {
            "_model_module": "@jupyter-widgets/base",
            "_model_module_version": "1.2.0",
            "_model_name": "LayoutModel",
            "_view_count": null,
            "_view_module": "@jupyter-widgets/base",
            "_view_module_version": "1.2.0",
            "_view_name": "LayoutView",
            "align_content": null,
            "align_items": null,
            "align_self": null,
            "border": null,
            "bottom": null,
            "display": null,
            "flex": null,
            "flex_flow": null,
            "grid_area": null,
            "grid_auto_columns": null,
            "grid_auto_flow": null,
            "grid_auto_rows": null,
            "grid_column": null,
            "grid_gap": null,
            "grid_row": null,
            "grid_template_areas": null,
            "grid_template_columns": null,
            "grid_template_rows": null,
            "height": null,
            "justify_content": null,
            "justify_items": null,
            "left": null,
            "margin": null,
            "max_height": null,
            "max_width": null,
            "min_height": null,
            "min_width": null,
            "object_fit": null,
            "object_position": null,
            "order": null,
            "overflow": null,
            "overflow_x": null,
            "overflow_y": null,
            "padding": null,
            "right": null,
            "top": null,
            "visibility": null,
            "width": null
          }
        },
        "3c0b10c00a65402b8f1e50d549f0a2d3": {
          "model_module": "@jupyter-widgets/controls",
          "model_name": "DescriptionStyleModel",
          "model_module_version": "1.5.0",
          "state": {
            "_model_module": "@jupyter-widgets/controls",
            "_model_module_version": "1.5.0",
            "_model_name": "DescriptionStyleModel",
            "_view_count": null,
            "_view_module": "@jupyter-widgets/base",
            "_view_module_version": "1.2.0",
            "_view_name": "StyleView",
            "description_width": ""
          }
        },
        "2244a61996784d9e8f1f1e6eecdec015": {
          "model_module": "@jupyter-widgets/controls",
          "model_name": "TextModel",
          "model_module_version": "1.5.0",
          "state": {
            "_dom_classes": [],
            "_model_module": "@jupyter-widgets/controls",
            "_model_module_version": "1.5.0",
            "_model_name": "TextModel",
            "_view_count": null,
            "_view_module": "@jupyter-widgets/controls",
            "_view_module_version": "1.5.0",
            "_view_name": "TextView",
            "continuous_update": true,
            "description": "Job Title:",
            "description_tooltip": null,
            "disabled": false,
            "layout": "IPY_MODEL_4ad171e9fe4f48c7b973374eba534ee1",
            "placeholder": "Enter a job title...",
            "style": "IPY_MODEL_ed9933948b4642a4ae0cd7fdacd3b180",
            "value": "teacher"
          }
        },
        "4ad171e9fe4f48c7b973374eba534ee1": {
          "model_module": "@jupyter-widgets/base",
          "model_name": "LayoutModel",
          "model_module_version": "1.2.0",
          "state": {
            "_model_module": "@jupyter-widgets/base",
            "_model_module_version": "1.2.0",
            "_model_name": "LayoutModel",
            "_view_count": null,
            "_view_module": "@jupyter-widgets/base",
            "_view_module_version": "1.2.0",
            "_view_name": "LayoutView",
            "align_content": null,
            "align_items": null,
            "align_self": null,
            "border": null,
            "bottom": null,
            "display": null,
            "flex": null,
            "flex_flow": null,
            "grid_area": null,
            "grid_auto_columns": null,
            "grid_auto_flow": null,
            "grid_auto_rows": null,
            "grid_column": null,
            "grid_gap": null,
            "grid_row": null,
            "grid_template_areas": null,
            "grid_template_columns": null,
            "grid_template_rows": null,
            "height": null,
            "justify_content": null,
            "justify_items": null,
            "left": null,
            "margin": null,
            "max_height": null,
            "max_width": null,
            "min_height": null,
            "min_width": null,
            "object_fit": null,
            "object_position": null,
            "order": null,
            "overflow": null,
            "overflow_x": null,
            "overflow_y": null,
            "padding": null,
            "right": null,
            "top": null,
            "visibility": null,
            "width": null
          }
        },
        "ed9933948b4642a4ae0cd7fdacd3b180": {
          "model_module": "@jupyter-widgets/controls",
          "model_name": "DescriptionStyleModel",
          "model_module_version": "1.5.0",
          "state": {
            "_model_module": "@jupyter-widgets/controls",
            "_model_module_version": "1.5.0",
            "_model_name": "DescriptionStyleModel",
            "_view_count": null,
            "_view_module": "@jupyter-widgets/base",
            "_view_module_version": "1.2.0",
            "_view_name": "StyleView",
            "description_width": ""
          }
        },
        "f88031c6eb564aec9dc6f8e9f8f35027": {
          "model_module": "@jupyter-widgets/controls",
          "model_name": "ButtonModel",
          "model_module_version": "1.5.0",
          "state": {
            "_dom_classes": [],
            "_model_module": "@jupyter-widgets/controls",
            "_model_module_version": "1.5.0",
            "_model_name": "ButtonModel",
            "_view_count": null,
            "_view_module": "@jupyter-widgets/controls",
            "_view_module_version": "1.5.0",
            "_view_name": "ButtonView",
            "button_style": "",
            "description": "Find Similar Titles",
            "disabled": false,
            "icon": "",
            "layout": "IPY_MODEL_2d09952e50564b45b081d4e1b71f57ef",
            "style": "IPY_MODEL_bade33a451fe4cb88dfae6654da89cc2",
            "tooltip": ""
          }
        },
        "2d09952e50564b45b081d4e1b71f57ef": {
          "model_module": "@jupyter-widgets/base",
          "model_name": "LayoutModel",
          "model_module_version": "1.2.0",
          "state": {
            "_model_module": "@jupyter-widgets/base",
            "_model_module_version": "1.2.0",
            "_model_name": "LayoutModel",
            "_view_count": null,
            "_view_module": "@jupyter-widgets/base",
            "_view_module_version": "1.2.0",
            "_view_name": "LayoutView",
            "align_content": null,
            "align_items": null,
            "align_self": null,
            "border": null,
            "bottom": null,
            "display": null,
            "flex": null,
            "flex_flow": null,
            "grid_area": null,
            "grid_auto_columns": null,
            "grid_auto_flow": null,
            "grid_auto_rows": null,
            "grid_column": null,
            "grid_gap": null,
            "grid_row": null,
            "grid_template_areas": null,
            "grid_template_columns": null,
            "grid_template_rows": null,
            "height": null,
            "justify_content": null,
            "justify_items": null,
            "left": null,
            "margin": null,
            "max_height": null,
            "max_width": null,
            "min_height": null,
            "min_width": null,
            "object_fit": null,
            "object_position": null,
            "order": null,
            "overflow": null,
            "overflow_x": null,
            "overflow_y": null,
            "padding": null,
            "right": null,
            "top": null,
            "visibility": null,
            "width": null
          }
        },
        "bade33a451fe4cb88dfae6654da89cc2": {
          "model_module": "@jupyter-widgets/controls",
          "model_name": "ButtonStyleModel",
          "model_module_version": "1.5.0",
          "state": {
            "_model_module": "@jupyter-widgets/controls",
            "_model_module_version": "1.5.0",
            "_model_name": "ButtonStyleModel",
            "_view_count": null,
            "_view_module": "@jupyter-widgets/base",
            "_view_module_version": "1.2.0",
            "_view_name": "StyleView",
            "button_color": null,
            "font_weight": ""
          }
        },
        "b3ae66f9a28545f8a9b949610f2a8727": {
          "model_module": "@jupyter-widgets/output",
          "model_name": "OutputModel",
          "model_module_version": "1.0.0",
          "state": {
            "_dom_classes": [],
            "_model_module": "@jupyter-widgets/output",
            "_model_module_version": "1.0.0",
            "_model_name": "OutputModel",
            "_view_count": null,
            "_view_module": "@jupyter-widgets/output",
            "_view_module_version": "1.0.0",
            "_view_name": "OutputView",
            "layout": "IPY_MODEL_5d7d12cd4d0d4da2a3a0c5fb541a7c4f",
            "msg_id": "",
            "outputs": [
              {
                "output_type": "display_data",
                "data": {
                  "text/plain": "<IPython.core.display.Markdown object>",
                  "text/markdown": "### Top 10 Relevant Job Titles"
                },
                "metadata": {}
              },
              {
                "output_type": "display_data",
                "data": {
                  "text/plain": "<IPython.core.display.Markdown object>",
                  "text/markdown": "1. **elementary teacher** - Similarity Score: 0.569"
                },
                "metadata": {}
              },
              {
                "output_type": "display_data",
                "data": {
                  "text/plain": "<IPython.core.display.Markdown object>",
                  "text/markdown": "2. **armenian language crosscultural facilitator lcf short** - Similarity Score: 0.568"
                },
                "metadata": {}
              },
              {
                "output_type": "display_data",
                "data": {
                  "text/plain": "<IPython.core.display.Markdown object>",
                  "text/markdown": "3. **italian language teacher** - Similarity Score: 0.555"
                },
                "metadata": {}
              },
              {
                "output_type": "display_data",
                "data": {
                  "text/plain": "<IPython.core.display.Markdown object>",
                  "text/markdown": "4. **finance accountancy audit teacher** - Similarity Score: 0.553"
                },
                "metadata": {}
              },
              {
                "output_type": "display_data",
                "data": {
                  "text/plain": "<IPython.core.display.Markdown object>",
                  "text/markdown": "5. **economic science teacher** - Similarity Score: 0.55"
                },
                "metadata": {}
              },
              {
                "output_type": "display_data",
                "data": {
                  "text/plain": "<IPython.core.display.Markdown object>",
                  "text/markdown": "6. **law specialtie teacher** - Similarity Score: 0.55"
                },
                "metadata": {}
              },
              {
                "output_type": "display_data",
                "data": {
                  "text/plain": "<IPython.core.display.Markdown object>",
                  "text/markdown": "7. **general french language teacher** - Similarity Score: 0.549"
                },
                "metadata": {}
              },
              {
                "output_type": "display_data",
                "data": {
                  "text/plain": "<IPython.core.display.Markdown object>",
                  "text/markdown": "8. **english language teacher native speaker** - Similarity Score: 0.528"
                },
                "metadata": {}
              },
              {
                "output_type": "display_data",
                "data": {
                  "text/plain": "<IPython.core.display.Markdown object>",
                  "text/markdown": "9. **english language teacher kindergarten** - Similarity Score: 0.516"
                },
                "metadata": {}
              },
              {
                "output_type": "display_data",
                "data": {
                  "text/plain": "<IPython.core.display.Markdown object>",
                  "text/markdown": "10. **english teacher kid teenager** - Similarity Score: 0.515"
                },
                "metadata": {}
              }
            ]
          }
        },
        "5d7d12cd4d0d4da2a3a0c5fb541a7c4f": {
          "model_module": "@jupyter-widgets/base",
          "model_name": "LayoutModel",
          "model_module_version": "1.2.0",
          "state": {
            "_model_module": "@jupyter-widgets/base",
            "_model_module_version": "1.2.0",
            "_model_name": "LayoutModel",
            "_view_count": null,
            "_view_module": "@jupyter-widgets/base",
            "_view_module_version": "1.2.0",
            "_view_name": "LayoutView",
            "align_content": null,
            "align_items": null,
            "align_self": null,
            "border": null,
            "bottom": null,
            "display": null,
            "flex": null,
            "flex_flow": null,
            "grid_area": null,
            "grid_auto_columns": null,
            "grid_auto_flow": null,
            "grid_auto_rows": null,
            "grid_column": null,
            "grid_gap": null,
            "grid_row": null,
            "grid_template_areas": null,
            "grid_template_columns": null,
            "grid_template_rows": null,
            "height": null,
            "justify_content": null,
            "justify_items": null,
            "left": null,
            "margin": null,
            "max_height": null,
            "max_width": null,
            "min_height": null,
            "min_width": null,
            "object_fit": null,
            "object_position": null,
            "order": null,
            "overflow": null,
            "overflow_x": null,
            "overflow_y": null,
            "padding": null,
            "right": null,
            "top": null,
            "visibility": null,
            "width": null
          }
        }
      }
    }
  },
  "nbformat": 4,
  "nbformat_minor": 0
}